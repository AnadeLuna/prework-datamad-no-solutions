{
 "cells": [
  {
   "cell_type": "markdown",
   "metadata": {},
   "source": [
    "# Duel of sorcerers\n",
    "## Intro\n",
    "You are witnessing an epic battle between two powerful sorcerers: Gandalf and Saruman. Each sorcerer has 10 spells of variable power in their mind and they are going to throw them one after the other. The winner of the duel will be the one who wins more of those clashes between spells. Spells are represented as a list of 10 integers whose value equals the power of the spell.\n",
    "```\n",
    "gandalf = [10, 11, 13, 30, 22, 11, 10, 33, 22, 22]\n",
    "saruman = [23, 66, 12, 43, 12, 10, 44, 23, 12, 17]\n",
    "```\n",
    "For example:\n",
    "1. The first clash is won by Saruman: 10 against 23, wins 23\n",
    "2. The second clash wins Saruman: 11 against 66, wins 66\n",
    "3. etc.\n",
    "\n",
    "\n",
    "You will create two variables, one for each sorcerer, where the sum of clashes won will be stored. Depending on which variable is greater at the end of the duel, you will show one of the following three results on the screen:\n",
    "* Gandalf wins\n",
    "* Saruman wins\n",
    "* Tie\n",
    "\n",
    "<img src=\"images/content_lightning_bolt_big.jpg\" width=\"400\">\n",
    "\n",
    "## LINKS: \n",
    "* zip: https://www.programiz.com/python-programming/methods/built-in/zip"
   ]
  },
  {
   "cell_type": "markdown",
   "metadata": {},
   "source": [
    "## Solution"
   ]
  },
  {
   "cell_type": "code",
   "execution_count": 1,
   "metadata": {},
   "outputs": [],
   "source": [
    "# Assign spell power lists to variables\n",
    "gandalf = [10, 11, 13, 30, 22, 11, 10, 33, 22, 22]\n",
    "saruman = [23, 66, 12, 43, 12, 10, 44, 23, 12, 17]"
   ]
  },
  {
   "cell_type": "code",
   "execution_count": 2,
   "metadata": {},
   "outputs": [],
   "source": [
    "# Assign 0 to each variable that stores the victories"
   ]
  },
  {
   "cell_type": "code",
   "execution_count": 35,
   "metadata": {},
   "outputs": [],
   "source": [
    "gandalf = [10, 11, 13, 30, 22, 11, 10, 33, 22, 22]\n",
    "saruman = [23, 66, 12, 43, 12, 10, 44, 23, 12, 17]\n",
    "saruman_wins=[]\n",
    "gandalf_wins=[]"
   ]
  },
  {
   "cell_type": "code",
   "execution_count": 3,
   "metadata": {},
   "outputs": [],
   "source": [
    "# Execution of spell clashes"
   ]
  },
  {
   "cell_type": "code",
   "execution_count": 36,
   "metadata": {},
   "outputs": [
    {
     "name": "stdout",
     "output_type": "stream",
     "text": [
      "Batallas luchadas por Saruman [1, 1, 0, 1, 0, 0, 1, 0, 0, 0]\n",
      "Batallas ganadas por Saruman 4\n",
      "Batallas luchadas por Gandalf [0, 0, 1, 0, 1, 1, 0, 1, 1, 1]\n",
      "Batallas luchadas porsum 6\n"
     ]
    }
   ],
   "source": [
    "for i in range(len(saruman)):\n",
    "    if (saruman[i])>(gandalf[i]):\n",
    "        saruman_wins.append(1)\n",
    "    elif(saruman[i])<(gandalf[i]):\n",
    "        saruman_wins.append(0)\n",
    "   \n",
    "\n",
    "\n",
    "for i in range(len(gandalf)):\n",
    "    if (saruman[i])<(gandalf[i]):\n",
    "        gandalf_wins.append(1)\n",
    "    elif(saruman[i])>(gandalf[i]):\n",
    "        gandalf_wins.append(0)\n",
    "    \n",
    "print(\"Batallas luchadas por Saruman\",saruman_wins)\n",
    "print(\"Batallas ganadas por Saruman\", sum(saruman_wins))\n",
    "print(\"Batallas luchadas por Gandalf\",gandalf_wins)\n",
    "print(\"Batallas luchadas porsum\",sum(gandalf_wins))"
   ]
  },
  {
   "cell_type": "markdown",
   "metadata": {},
   "source": [
    "**Expected output**:\n",
    "```\n",
    "6\n",
    "4\n",
    "```"
   ]
  },
  {
   "cell_type": "code",
   "execution_count": 4,
   "metadata": {},
   "outputs": [],
   "source": [
    "# We check who has won, do not forget the possibility of a draw.\n",
    "# Print the result based on the winner."
   ]
  },
  {
   "cell_type": "code",
   "execution_count": 14,
   "metadata": {},
   "outputs": [
    {
     "name": "stdout",
     "output_type": "stream",
     "text": [
      "Gandalf wins\n"
     ]
    }
   ],
   "source": [
    "if sum(gandalf_wins)>sum(saruman_wins):\n",
    "    print(\"Gandalf wins\")\n",
    "elif sum(saruman_wins)>sum(gandalf_wins):\n",
    "    print(\"Saruman wins\")\n",
    "else:\n",
    "    print(\"Tie\")"
   ]
  },
  {
   "cell_type": "markdown",
   "metadata": {},
   "source": [
    "**Expected output**:\n",
    "```\n",
    "Gandalf wins\n",
    "```"
   ]
  },
  {
   "cell_type": "markdown",
   "metadata": {},
   "source": [
    "## Goals\n",
    "\n",
    "1. Treatment of lists\n",
    "2. Use of **for loop**\n",
    "3. Use of conditional **if-elif-else**\n",
    "4. Use of the functions **range(), len()**\n",
    "5. print()\n",
    "6. zip()"
   ]
  },
  {
   "cell_type": "markdown",
   "metadata": {},
   "source": [
    "## Bonus\n",
    "\n",
    "1. Spells now have a name and there is a dictionary that relates that name to a power.\n",
    "2. A sorcerer wins if he succeeds in winning 3 spell clashes in a row.\n",
    "3. Average of each of the spell lists.\n",
    "4. Standard deviation of each of the spell lists.\n",
    "\n",
    "```\n",
    "POWER = {\n",
    "    'Fireball': 50, \n",
    "    'Lightning bolt': 40, \n",
    "    'Magic arrow': 10, \n",
    "    'Black Tentacles': 25, \n",
    "    'Contagion': 45\n",
    "}\n",
    "\n",
    "gandalf = ['Fireball', 'Lightning bolt', 'Lightning bolt', 'Magic arrow', 'Fireball', \n",
    "           'Magic arrow', 'Lightning bolt', 'Fireball', 'Fireball', 'Fireball']\n",
    "saruman = ['Contagion', 'Contagion', 'Black Tentacles', 'Fireball', 'Black Tentacles', \n",
    "           'Lightning bolt', 'Magic arrow', 'Contagion', 'Magic arrow', 'Magic arrow']\n",
    "```\n",
    "\n",
    "Good luck!"
   ]
  },
  {
   "cell_type": "code",
   "execution_count": 40,
   "metadata": {},
   "outputs": [],
   "source": [
    "# 1. Spells now have a name and there is a dictionary that relates that name to a power.\n",
    "# variables\n",
    "\n",
    "POWER = {\n",
    "    'Fireball': 50, \n",
    "    'Lightning bolt': 40, \n",
    "    'Magic arrow': 10, \n",
    "    'Black Tentacles': 25, \n",
    "    'Contagion': 45\n",
    "}\n",
    "\n",
    "gandalf = ['Fireball', 'Lightning bolt', 'Lightning bolt', 'Magic arrow', 'Fireball', \n",
    "           'Magic arrow', 'Lightning bolt', 'Fireball', 'Magic arrow', 'Fireball']\n",
    "saruman = ['Contagion', 'Contagion', 'Black Tentacles', 'Fireball', 'Black Tentacles', \n",
    "           'Lightning bolt', 'Magic arrow', 'Contagion', 'Magic arrow', 'Magic arrow']"
   ]
  },
  {
   "cell_type": "code",
   "execution_count": 6,
   "metadata": {},
   "outputs": [],
   "source": [
    "# Assign spell power lists to variables"
   ]
  },
  {
   "cell_type": "code",
   "execution_count": 41,
   "metadata": {},
   "outputs": [
    {
     "name": "stdout",
     "output_type": "stream",
     "text": [
      "gandalf_power = [50, 40, 40, 10, 50, 10, 40, 50, 10, 50]\n",
      "saruman_power = [45, 45, 25, 50, 25, 40, 10, 45, 10, 10]\n"
     ]
    }
   ],
   "source": [
    "gandalf_power = []\n",
    "saruman_power = []\n",
    "\n",
    "for g in gandalf:\n",
    "    gandalf_power.append(POWER[g])\n",
    "\n",
    "print(\"gandalf_power =\",gandalf_power)\n",
    "\n",
    "for s in saruman:\n",
    "    saruman_power.append(POWER[s])\n",
    "\n",
    "print(\"saruman_power =\",saruman_power)\n"
   ]
  },
  {
   "cell_type": "markdown",
   "metadata": {},
   "source": [
    "**Expected output**:\n",
    "```\n",
    "([50, 40, 40, 10, 50, 10, 40, 50, 10, 50],\n",
    " [45, 45, 25, 50, 25, 40, 10, 45, 10, 10])\n",
    " ```"
   ]
  },
  {
   "cell_type": "code",
   "execution_count": 7,
   "metadata": {},
   "outputs": [],
   "source": [
    "# 2. A sorcerer wins if he succeeds in winning 3 spell clashes in a row.\n",
    "# Execution of spell clashes\n",
    "\n",
    "# check clashes\n",
    "\n",
    "# check for 3 wins in a row\n",
    "\n",
    "# check the winner\n",
    "\n",
    "# count sum of clashes"
   ]
  },
  {
   "cell_type": "code",
   "execution_count": 105,
   "metadata": {
    "scrolled": true
   },
   "outputs": [
    {
     "name": "stdout",
     "output_type": "stream",
     "text": [
      "Para la batalla 0 Gandal utiliza 50 poderes\n",
      "Para la batalla 0 Saruman utiliza 45 poderes\n",
      "Gandalf win \n",
      "\n",
      "Para la batalla 1 Gandal utiliza 40 poderes\n",
      "Para la batalla 1 Saruman utiliza 45 poderes\n",
      "Saruman win \n",
      "\n",
      "Para la batalla 2 Gandal utiliza 40 poderes\n",
      "Para la batalla 2 Saruman utiliza 25 poderes\n",
      "Gandalf win \n",
      "\n",
      "Para la batalla 3 Gandal utiliza 10 poderes\n",
      "Para la batalla 3 Saruman utiliza 50 poderes\n",
      "Saruman win \n",
      "\n",
      "Para la batalla 4 Gandal utiliza 50 poderes\n",
      "Para la batalla 4 Saruman utiliza 25 poderes\n",
      "Gandalf win \n",
      "\n",
      "Para la batalla 5 Gandal utiliza 10 poderes\n",
      "Para la batalla 5 Saruman utiliza 40 poderes\n",
      "Saruman win \n",
      "\n",
      "Para la batalla 6 Gandal utiliza 40 poderes\n",
      "Para la batalla 6 Saruman utiliza 10 poderes\n",
      "Gandalf win \n",
      "\n",
      "Para la batalla 7 Gandal utiliza 50 poderes\n",
      "Para la batalla 7 Saruman utiliza 45 poderes\n",
      "Gandalf win \n",
      "\n",
      "Para la batalla 8 Gandal utiliza 10 poderes\n",
      "Para la batalla 8 Saruman utiliza 10 poderes\n",
      "tie \n",
      "\n",
      "Para la batalla 9 Gandal utiliza 50 poderes\n",
      "Para la batalla 9 Saruman utiliza 10 poderes\n",
      "Gandalf win \n",
      "\n",
      "Total del número de hechizos lanzados 655 \n",
      "\n",
      "La batalla comienza con 0 puntos Gandalf y 0 puntos Saruman\n",
      "Gandalf gana con 1 en la batalla 1\n",
      "Batallas de Gandalf: [1]\n",
      "Batallas de Saruman: [0]\n",
      "\n",
      "\n",
      "Saruman gana con 1 en la batalla 2\n",
      "Batallas de Saruman: [0, 1]\n",
      "Batallas de Gandalf: [1, 0]\n",
      "\n",
      "\n",
      "Gandalf gana con 2 en la batalla 3\n",
      "Batallas de Gandalf: [1, 0, 1]\n",
      "Batallas de Saruman: [0, 1, 0]\n",
      "\n",
      "\n",
      "Saruman gana con 2 en la batalla 4\n",
      "Batallas de Saruman: [0, 1, 0, 1]\n",
      "Batallas de Gandalf: [1, 0, 1, 0]\n",
      "\n",
      "\n",
      "Gandalf gana con 3 en la batalla 5\n",
      "Batallas de Gandalf: [1, 0, 1, 0, 1]\n",
      "Batallas de Saruman: [0, 1, 0, 1, 0]\n",
      "\n",
      "\n",
      "Saruman gana con 3 en la batalla 6\n",
      "Batallas de Saruman: [0, 1, 0, 1, 0, 1]\n",
      "Batallas de Gandalf: [1, 0, 1, 0, 1, 0]\n",
      "\n",
      "\n",
      "Gandalf gana con 4 en la batalla 7\n",
      "Batallas de Gandalf: [1, 0, 1, 0, 1, 0, 1]\n",
      "Batallas de Saruman: [0, 1, 0, 1, 0, 1, 0]\n",
      "\n",
      "\n",
      "Gandalf gana con 5 en la batalla 8\n",
      "Batallas de Gandalf: [1, 0, 1, 0, 1, 0, 1, 1]\n",
      "Batallas de Saruman: [0, 1, 0, 1, 0, 1, 0, 0]\n",
      "\n",
      "\n",
      "\n",
      "\n",
      "Gandalf gana con 6 en la batalla 9\n",
      "Batallas de Gandalf: [1, 0, 1, 0, 1, 0, 1, 1, 1]\n",
      "Batallas de Saruman: [0, 1, 0, 1, 0, 1, 0, 0, 0]\n",
      "Gandalf es el ganador puesto que gana 3 batallas seguidas\n"
     ]
    }
   ],
   "source": [
    "for enum_g,g,enum_s,s in zip(enumerate(gandalf),gandalf,enumerate(saruman),saruman):\n",
    "        print(\"Para la batalla\",enum_g[0],\"Gandal utiliza\",POWER[g],\"poderes\")\n",
    "        print(\"Para la batalla\",enum_s[0],\"Saruman utiliza\",POWER[s],\"poderes\")\n",
    "        \n",
    "        if POWER[g]>POWER[s]:\n",
    "            print(\"Gandalf win \\n\")\n",
    "        elif POWER[g]<POWER[s]:\n",
    "            print(\"Saruman win \\n\")\n",
    "        else:\n",
    "            print(\"tie \\n\")\n",
    "\n",
    "spells = sum(gandalf_power) + sum(saruman_power)\n",
    "print(\"Total del número de hechizos lanzados\", spells, \"\\n\")\n",
    "gandalf_wins = 0\n",
    "saruman_wins = 0\n",
    "battles = 0\n",
    "gandalf_wins_list=[]\n",
    "saruman_wins_list=[]\n",
    "\n",
    "print(\"La batalla comienza con\",gandalf_wins, \"puntos Gandalf y\",saruman_wins,\"puntos Saruman\")\n",
    "for g,s in zip(gandalf_power,saruman_power):\n",
    "    if g>s:\n",
    "        gandalf_wins+=1\n",
    "        battles+=1\n",
    "        print(\"Gandalf gana con\",gandalf_wins, \"en la batalla\",battles)\n",
    "        gandalf_wins_list.append(1)\n",
    "        print(\"Batallas de Gandalf:\", gandalf_wins_list)\n",
    "        saruman_wins_list.append(0)\n",
    "        print(\"Batallas de Saruman:\", saruman_wins_list)\n",
    "        if len(gandalf_wins_list)>2 and (gandalf_wins_list[-1]+gandalf_wins_list[-2]+gandalf_wins_list[-3]==3):\n",
    "            break\n",
    "       \n",
    "    elif g<s:\n",
    "        saruman_wins+=1\n",
    "        battles+=1\n",
    "        print(\"Saruman gana con\",saruman_wins, \"en la batalla\",battles)\n",
    "        saruman_wins_list.append(1)\n",
    "        print(\"Batallas de Saruman:\", saruman_wins_list)\n",
    "        gandalf_wins_list.append(0)\n",
    "        print(\"Batallas de Gandalf:\", gandalf_wins_list)\n",
    "        if len(saruman_wins_list)>2 and (saruman_wins_list[-1]+saruman_wins_list[-2]+saruman_wins_list[-3]==3):\n",
    "            break\n",
    "            \n",
    "    print(\"\\n\")\n",
    "\n",
    "\n",
    "print(\"Gandalf es el ganador puesto que gana 3 batallas seguidas\")\n"
   ]
  },
  {
   "cell_type": "markdown",
   "metadata": {},
   "source": [
    "**Expected output**:\n",
    "```\n",
    "Gandalf wins\n",
    "```"
   ]
  },
  {
   "cell_type": "code",
   "execution_count": 8,
   "metadata": {},
   "outputs": [],
   "source": [
    "# 3. Average of each of the spell lists."
   ]
  },
  {
   "cell_type": "code",
   "execution_count": 111,
   "metadata": {},
   "outputs": [
    {
     "name": "stdout",
     "output_type": "stream",
     "text": [
      "Average of Gandalf and Saruman\n"
     ]
    },
    {
     "data": {
      "text/plain": [
       "(35.0, 30.5)"
      ]
     },
     "execution_count": 111,
     "metadata": {},
     "output_type": "execute_result"
    }
   ],
   "source": [
    "import numpy\n",
    "print(\"Average of Gandalf and Saruman\")\n",
    "numpy.mean(gandalf_power),numpy.mean(saruman_power)\n"
   ]
  },
  {
   "cell_type": "markdown",
   "metadata": {},
   "source": [
    "**Expected output**:\n",
    "```\n",
    "35.0\n",
    "30.5\n",
    "```"
   ]
  },
  {
   "cell_type": "code",
   "execution_count": 9,
   "metadata": {},
   "outputs": [],
   "source": [
    "# 4. Standard deviation of each of the spell lists."
   ]
  },
  {
   "cell_type": "code",
   "execution_count": 112,
   "metadata": {},
   "outputs": [
    {
     "name": "stdout",
     "output_type": "stream",
     "text": [
      "Standard deviation of Gandalf and Saruman\n"
     ]
    },
    {
     "data": {
      "text/plain": [
       "(16.881943016134134, 15.56438241627338)"
      ]
     },
     "execution_count": 112,
     "metadata": {},
     "output_type": "execute_result"
    }
   ],
   "source": [
    "print(\"Standard deviation of Gandalf and Saruman\")\n",
    "numpy.std(gandalf_power),numpy.std(saruman_power)"
   ]
  },
  {
   "cell_type": "markdown",
   "metadata": {},
   "source": [
    "**Expected output**:\n",
    "```\n",
    "16.881943016134134\n",
    "15.56438241627338\n",
    "```"
   ]
  },
  {
   "cell_type": "code",
   "execution_count": null,
   "metadata": {},
   "outputs": [],
   "source": []
  }
 ],
 "metadata": {
  "kernelspec": {
   "display_name": "Python 3",
   "language": "python",
   "name": "python3"
  },
  "language_info": {
   "codemirror_mode": {
    "name": "ipython",
    "version": 3
   },
   "file_extension": ".py",
   "mimetype": "text/x-python",
   "name": "python",
   "nbconvert_exporter": "python",
   "pygments_lexer": "ipython3",
   "version": "3.8.5"
  }
 },
 "nbformat": 4,
 "nbformat_minor": 2
}
