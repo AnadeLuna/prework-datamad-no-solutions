{
 "cells": [
  {
   "cell_type": "markdown",
   "metadata": {},
   "source": [
    "# Lyrics\n",
    "## Intro\n",
    "This exercise is simple. You are going to create a code that writes the lyrics of a famous song. **The shorter your code is, the better**. Although it may seem a bit silly, it is important that you learn to automate repetitive tasks or that there are few changes between them.\n",
    "\n",
    "<img src=\"./images/babyshark.jpeg\" width=\"400\">\n",
    "\n",
    "## Song\n",
    "\n",
    "```\n",
    "Baby shark, doo doo doo doo doo doo\n",
    "Baby shark, doo doo doo doo doo doo\n",
    "Baby shark, doo doo doo doo doo doo\n",
    "Baby shark!\n",
    "Mommy shark, doo doo doo doo doo doo\n",
    "Mommy shark, doo doo doo doo doo doo\n",
    "Mommy shark, doo doo doo doo doo doo\n",
    "Mommy shark!\n",
    "Daddy shark, doo doo doo doo doo doo\n",
    "Daddy shark, doo doo doo doo doo doo\n",
    "Daddy shark, doo doo doo doo doo doo\n",
    "Daddy shark!\n",
    "Grandma shark, doo doo doo doo doo doo\n",
    "Grandma shark, doo doo doo doo doo doo\n",
    "Grandma shark, doo doo doo doo doo doo\n",
    "Grandma shark!\n",
    "Grandpa shark, doo doo doo doo doo doo\n",
    "Grandpa shark, doo doo doo doo doo doo\n",
    "Grandpa shark, doo doo doo doo doo doo\n",
    "Grandpa shark!\n",
    "Let's go hunt, doo doo doo doo doo doo\n",
    "Let's go hunt, doo doo doo doo doo doo\n",
    "Let's go hunt, doo doo doo doo doo doo\n",
    "Let's go hunt!\n",
    "Run away,… \n",
    "```\n",
    "\n",
    "\n",
    "## Goals\n",
    "\n",
    "0. Use of string methods: **format()**, **str()**\n",
    "1. Use of **for loop**\n",
    "2. Use of the function **range()**\n",
    "3. print()\n",
    "4. Use of functions\n",
    "5. Open files\n",
    "6. Refactoring\n",
    "\n",
    "## Hints\n",
    "\n",
    "* '\\n' is the character for new line. It must end every string in the third step. \n",
    "\n",
    "\n",
    "## Solution"
   ]
  },
  {
   "cell_type": "code",
   "execution_count": null,
   "metadata": {},
   "outputs": [],
   "source": [
    "# Variable\n",
    "\n",
    "babyshark = '''Baby shark, doo doo doo doo doo doo\n",
    "Baby shark, doo doo doo doo doo doo\n",
    "Baby shark, doo doo doo doo doo doo\n",
    "Baby shark!\n",
    "Mommy shark, doo doo doo doo doo doo\n",
    "Mommy shark, doo doo doo doo doo doo\n",
    "Mommy shark, doo doo doo doo doo doo\n",
    "Mommy shark!\n",
    "Daddy shark, doo doo doo doo doo doo\n",
    "Daddy shark, doo doo doo doo doo doo\n",
    "Daddy shark, doo doo doo doo doo doo\n",
    "Daddy shark!\n",
    "Grandma shark, doo doo doo doo doo doo\n",
    "Grandma shark, doo doo doo doo doo doo\n",
    "Grandma shark, doo doo doo doo doo doo\n",
    "Grandma shark!\n",
    "Grandpa shark, doo doo doo doo doo doo\n",
    "Grandpa shark, doo doo doo doo doo doo\n",
    "Grandpa shark, doo doo doo doo doo doo\n",
    "Grandpa shark!\n",
    "Let's go hunt, doo doo doo doo doo doo\n",
    "Let's go hunt, doo doo doo doo doo doo\n",
    "Let's go hunt, doo doo doo doo doo doo\n",
    "Let's go hunt!\n",
    "Run away,…'''"
   ]
  },
  {
   "cell_type": "markdown",
   "metadata": {},
   "source": [
    "### Step 1: First Paragraph\n",
    "Create a code to print the first paragraph and asign it to a variable. "
   ]
  },
  {
   "cell_type": "code",
   "execution_count": null,
   "metadata": {},
   "outputs": [],
   "source": [
    "# your code here\n",
    "for letter in babyshark.split(\" \"):\n",
    "    print(letter)\n"
   ]
  },
  {
   "cell_type": "code",
   "execution_count": null,
   "metadata": {
    "scrolled": true
   },
   "outputs": [],
   "source": [
    "for letter in babyshark.split(\"!\"):\n",
    "    print(letter)"
   ]
  },
  {
   "cell_type": "code",
   "execution_count": null,
   "metadata": {},
   "outputs": [],
   "source": [
    "type(babyshark)"
   ]
  },
  {
   "cell_type": "code",
   "execution_count": null,
   "metadata": {},
   "outputs": [],
   "source": [
    "type(babyshark.split(\"!\"))"
   ]
  },
  {
   "cell_type": "code",
   "execution_count": null,
   "metadata": {},
   "outputs": [],
   "source": [
    "babyshark.split(\"!\")"
   ]
  },
  {
   "cell_type": "code",
   "execution_count": null,
   "metadata": {},
   "outputs": [],
   "source": [
    "for letter in babyshark.split(\"\\n\")[0:4]:\n",
    "    print(letter)"
   ]
  },
  {
   "cell_type": "markdown",
   "metadata": {},
   "source": [
    "**Expected output**:\n",
    "\n",
    "```\n",
    "Baby shark, doo doo doo doo doo doo\n",
    "Baby shark, doo doo doo doo doo doo\n",
    "Baby shark, doo doo doo doo doo doo\n",
    "Baby shark!\n",
    "```\n",
    "\n"
   ]
  },
  {
   "cell_type": "markdown",
   "metadata": {},
   "source": [
    "### Step 2: Full song\n",
    "\n",
    "Create a code that prints the complete lyrics. "
   ]
  },
  {
   "cell_type": "code",
   "execution_count": null,
   "metadata": {
    "scrolled": true
   },
   "outputs": [],
   "source": [
    "name_list = {1:\"Baby shark\",2:\"Mommy shark\",3:\"Daddy shark\",4:\"Grandma shark\",5:\"Grandpa shark\",6:\"Let's go hunt\"} \n",
    "name = 0 \n",
    "\n",
    "for l in name_list:\n",
    "    name+=1\n",
    "    print(name_list[name]+\",\"+\" doo \"*6)\n",
    "    print(name_list[name]+\",\"+\" doo \"*6)\n",
    "    print(name_list[name]+\",\"+\" doo \"*6)\n",
    "    print(name_list[name]+\",\"+\" doo \"*6)\n",
    "    print(name_list[name]+\"!\")\n",
    "    if name>6:\n",
    "        break\n",
    "    \n",
    "print(\"Run away,…'''\")      "
   ]
  },
  {
   "cell_type": "code",
   "execution_count": null,
   "metadata": {
    "scrolled": false
   },
   "outputs": [],
   "source": [
    "name_list = {1:\"Baby shark\",2:\"Mommy shark\",3:\"Daddy shark\",4:\"Grandma shark\",5:\"Grandpa shark\",6:\"Let's go hunt\"} \n",
    "name = 0 \n",
    "\n",
    "for l in name_list:\n",
    "    name+=1\n",
    "    print((name_list[name]+\",\"+\" doo \"*6+\"\\n\")*3+(name_list[name]+\"!\"))\n",
    "    if name>5:\n",
    "        #Se para el contador en 5\n",
    "        break \n",
    "        \n",
    "print(\"Run away,…'''\")  "
   ]
  },
  {
   "cell_type": "code",
   "execution_count": null,
   "metadata": {
    "scrolled": true
   },
   "outputs": [],
   "source": [
    "name_list = {1:\"Baby shark\",2:\"Mommy shark\",3:\"Daddy shark\",4:\"Grandma shark\",5:\"Grandpa shark\",6:\"Let's go hunt\"} \n",
    "#Tener en cuenta que para el rango simpre hay que contar un número más para que nos aparezca.\n",
    "for l in range(1,7):\n",
    "    print((name_list[l]+\",\"+\" doo\"*6+\"\\n\")*3+(name_list[l]+\"!\"))  \n",
    "\n",
    "print(\"Run away,…'''\")  "
   ]
  },
  {
   "cell_type": "markdown",
   "metadata": {},
   "source": [
    "**Expected output**:\n",
    "\n",
    "```\n",
    "Baby shark, doo doo doo doo doo doo\n",
    "Baby shark, doo doo doo doo doo doo\n",
    "Baby shark, doo doo doo doo doo doo\n",
    "Baby shark!\n",
    "Mommy shark, doo doo doo doo doo doo\n",
    "Mommy shark, doo doo doo doo doo doo\n",
    "Mommy shark, doo doo doo doo doo doo\n",
    "Mommy shark!\n",
    "Daddy shark, doo doo doo doo doo doo\n",
    "Daddy shark, doo doo doo doo doo doo\n",
    "Daddy shark, doo doo doo doo doo doo\n",
    "Daddy shark!\n",
    "Grandma shark, doo doo doo doo doo doo\n",
    "Grandma shark, doo doo doo doo doo doo\n",
    "Grandma shark, doo doo doo doo doo doo\n",
    "Grandma shark!\n",
    "Grandpa shark, doo doo doo doo doo doo\n",
    "Grandpa shark, doo doo doo doo doo doo\n",
    "Grandpa shark, doo doo doo doo doo doo\n",
    "Grandpa shark!\n",
    "Let's go hunt, doo doo doo doo doo doo\n",
    "Let's go hunt, doo doo doo doo doo doo\n",
    "Let's go hunt, doo doo doo doo doo doo\n",
    "Let's go hunt!\n",
    "Run away,… \n",
    "```\n",
    "\n",
    "### Step 3: Check output\n",
    "Now i want you must create a string variable called **result** to store all the characters and check if it is equal to the lyrics. Remenber de hint section. \n"
   ]
  },
  {
   "cell_type": "code",
   "execution_count": null,
   "metadata": {},
   "outputs": [],
   "source": [
    "# your code here\n",
    "\n",
    "name_dict = {1:\"Baby shark\",2:\"Mommy shark\",3:\"Daddy shark\",4:\"Grandma shark\",5:\"Grandpa shark\",6:\"Let's go hunt\"} \n",
    "x = \"\"\n",
    "\n",
    "for k in name_dict.keys():\n",
    "    x += ((name_dict[k]+\",\"+\" doo\"*6+\"\\n\")*3+(name_dict[k]+\"!\\n\"))\n",
    "y = \"Run away,…\"  \n",
    "\n",
    "result = x+y\n",
    "print(result)"
   ]
  },
  {
   "cell_type": "code",
   "execution_count": null,
   "metadata": {},
   "outputs": [],
   "source": [
    "# Check\n",
    "\n",
    "print(result == babyshark)"
   ]
  },
  {
   "cell_type": "markdown",
   "metadata": {},
   "source": [
    "**Expected output**:\n",
    "\n",
    "```\n",
    "True\n",
    "```\n",
    "\n",
    "### Step 4: Function\n",
    " Create a functions called babyshark() that generates the wanted output. "
   ]
  },
  {
   "cell_type": "code",
   "execution_count": null,
   "metadata": {},
   "outputs": [],
   "source": [
    "name_dict = {1:\"Baby shark\",2:\"Mommy shark\",3:\"Daddy shark\",4:\"Grandma shark\",5:\"Grandpa shark\",6:\"Let's go hunt\"} \n",
    "\n",
    "def baby_shark_lyrics(name_dict):     \n",
    "    x = \"\"\n",
    "    print(name_dict.keys())\n",
    "    for k in name_dict.keys():\n",
    "        x += ((name_dict[k]+\",\"+\" doo\"*6+\"\\n\")*3+(name_dict[k]+\"!\\n\"))\n",
    "    y = \"Run away,…\"  \n",
    "\n",
    "    return x+y\n",
    "\n"
   ]
  },
  {
   "cell_type": "code",
   "execution_count": null,
   "metadata": {},
   "outputs": [],
   "source": [
    "#También se podría hacer sí pero la función simpre recogería la variable que le hemos dado dentro de la función. \n",
    "# Y por lo tanto la función siempre tendrá el mismo resultado. Normalmente se deberá utilizar la función como lo\n",
    "#hemos hecho en la celda anterior.\n",
    "\n",
    "#def baby_shark_lyrics():     \n",
    "    #name_dict = {1:\"Baby shark\",2:\"Mommy shark\",3:\"Daddy shark\",4:\"Grandma shark\",5:\"Grandpa shark\",6:\"Let's go hunt\"}\n",
    "    #x = \"\"\n",
    "    #for k in name_dict.keys():\n",
    "        #x += ((name_dict[k]+\",\"+\" doo\"*6+\"\\n\")*3+(name_dict[k]+\"!\\n\"))\n",
    "    #y = \"Run away,…\"  \n",
    "\n",
    "    #return x+y"
   ]
  },
  {
   "cell_type": "code",
   "execution_count": null,
   "metadata": {},
   "outputs": [],
   "source": [
    "# Check\n",
    "\n",
    "print(baby_shark_lyrics(name_dict) == babyshark)"
   ]
  },
  {
   "cell_type": "code",
   "execution_count": null,
   "metadata": {},
   "outputs": [],
   "source": [
    "print(baby_shark_lyrics() == babyshark)"
   ]
  },
  {
   "cell_type": "markdown",
   "metadata": {},
   "source": [
    "**Expected output**:\n",
    "\n",
    "```\n",
    "True\n",
    "```"
   ]
  },
  {
   "cell_type": "markdown",
   "metadata": {},
   "source": [
    "### Step 5: Files\n",
    "Baby shark lyrics can be read in the songs folder. Try to store the content of that file in a variable called **text** and check if it is equal to the babyshark variable and the output of your baby_shark_lyrics function. \n",
    "\n",
    "https://www.pythonforbeginners.com/files/reading-and-writing-files-in-python"
   ]
  },
  {
   "cell_type": "code",
   "execution_count": null,
   "metadata": {},
   "outputs": [],
   "source": [
    "# your code here\n",
    "\n",
    "imported_text = open(\"songs/baby-shark.txt\",\"r\")\n",
    "text = imported_text.read()\n",
    "print(text)"
   ]
  },
  {
   "cell_type": "code",
   "execution_count": null,
   "metadata": {},
   "outputs": [],
   "source": [
    "# check\n",
    "\n",
    "print(text == babyshark)"
   ]
  },
  {
   "cell_type": "markdown",
   "metadata": {},
   "source": [
    "**Expected output**:\n",
    "\n",
    "```\n",
    "True\n",
    "```"
   ]
  },
  {
   "cell_type": "code",
   "execution_count": null,
   "metadata": {},
   "outputs": [],
   "source": [
    "# Check\n",
    "\n",
    "print(baby_shark_lyrics(name_dict) == text)"
   ]
  },
  {
   "cell_type": "markdown",
   "metadata": {},
   "source": [
    "**Expected output**:\n",
    "\n",
    "```\n",
    "True\n",
    "```"
   ]
  },
  {
   "cell_type": "markdown",
   "metadata": {},
   "source": [
    "### Step 6: Refactor\n",
    "Now I want you to refactor your **baby_shark_lyrics** function in order to be less than 400 characters. If your code is larger than 400 characters, you should change baby_shark_lyrics function in order to shorten it."
   ]
  },
  {
   "cell_type": "code",
   "execution_count": null,
   "metadata": {},
   "outputs": [],
   "source": [
    "import inspect\n",
    "\n",
    "code = inspect.getsource(baby_shark_lyrics)\n",
    "\n",
    "# check\n",
    "\n",
    "print('Your baby_shark_lyrics functions has {} characters'.format(len(code)))\n",
    "print(len(code) < 400)"
   ]
  },
  {
   "cell_type": "markdown",
   "metadata": {},
   "source": [
    "**Expected output**:\n",
    "\n",
    "```\n",
    "Your baby_shark_lyrics functions has 367 characters\n",
    "True\n",
    "```"
   ]
  },
  {
   "cell_type": "markdown",
   "metadata": {},
   "source": [
    "## Bonus\n",
    "\n",
    "http://www.99-bottles-of-beer.net/\n",
    "\n",
    "Now let`s try with another lyric, you can find it in songs folder. \n",
    "\n",
    "### Step 1. Create bottles_lyrics function"
   ]
  },
  {
   "cell_type": "code",
   "execution_count": null,
   "metadata": {},
   "outputs": [],
   "source": [
    "def bottles_lyrics():\n",
    "    # your code here.   "
   ]
  },
  {
   "cell_type": "code",
   "execution_count": 48,
   "metadata": {},
   "outputs": [
    {
     "name": "stdout",
     "output_type": "stream",
     "text": [
      "99 bottles of beer on the wall, 99 bottles of beer.\n",
      "Take one down and pass it around, 98 bottles of beer on the wall.\n",
      "\n",
      "98 bottles of beer on the wall, 98 bottles of beer.\n",
      "Take one down and pass it around, 97 bottles of beer on the wall.\n",
      "\n",
      "97 bottles of beer on the wall, 97 bottles of beer.\n",
      "Take one down and pass it around, 96 bottles of beer on the wall.\n",
      "\n",
      "96 bottles of beer on the wall, 96 bottles of beer.\n",
      "Take one down and pass it around, 95 bottles of beer on the wall.\n",
      "\n",
      "95 bottles of beer on the wall, 95 bottles of beer.\n",
      "Take one down and pass it around, 94 bottles of beer on the wall.\n",
      "\n",
      "94 bottles of beer on the wall, 94 bottles of beer.\n",
      "Take one down and pass it around, 93 bottles of beer on the wall.\n",
      "\n",
      "93 bottles of beer on the wall, 93 bottles of beer.\n",
      "Take one down and pass it around, 92 bottles of beer on the wall.\n",
      "\n",
      "92 bottles of beer on the wall, 92 bottles of beer.\n",
      "Take one down and pass it around, 91 bottles of beer on the wall.\n",
      "\n",
      "91 bottles of beer on the wall, 91 bottles of beer.\n",
      "Take one down and pass it around, 90 bottles of beer on the wall.\n",
      "\n",
      "90 bottles of beer on the wall, 90 bottles of beer.\n",
      "Take one down and pass it around, 89 bottles of beer on the wall.\n",
      "\n",
      "89 bottles of beer on the wall, 89 bottles of beer.\n",
      "Take one down and pass it around, 88 bottles of beer on the wall.\n",
      "\n",
      "88 bottles of beer on the wall, 88 bottles of beer.\n",
      "Take one down and pass it around, 87 bottles of beer on the wall.\n",
      "\n",
      "87 bottles of beer on the wall, 87 bottles of beer.\n",
      "Take one down and pass it around, 86 bottles of beer on the wall.\n",
      "\n",
      "86 bottles of beer on the wall, 86 bottles of beer.\n",
      "Take one down and pass it around, 85 bottles of beer on the wall.\n",
      "\n",
      "85 bottles of beer on the wall, 85 bottles of beer.\n",
      "Take one down and pass it around, 84 bottles of beer on the wall.\n",
      "\n",
      "84 bottles of beer on the wall, 84 bottles of beer.\n",
      "Take one down and pass it around, 83 bottles of beer on the wall.\n",
      "\n",
      "83 bottles of beer on the wall, 83 bottles of beer.\n",
      "Take one down and pass it around, 82 bottles of beer on the wall.\n",
      "\n",
      "82 bottles of beer on the wall, 82 bottles of beer.\n",
      "Take one down and pass it around, 81 bottles of beer on the wall.\n",
      "\n",
      "81 bottles of beer on the wall, 81 bottles of beer.\n",
      "Take one down and pass it around, 80 bottles of beer on the wall.\n",
      "\n",
      "80 bottles of beer on the wall, 80 bottles of beer.\n",
      "Take one down and pass it around, 79 bottles of beer on the wall.\n",
      "\n",
      "79 bottles of beer on the wall, 79 bottles of beer.\n",
      "Take one down and pass it around, 78 bottles of beer on the wall.\n",
      "\n",
      "78 bottles of beer on the wall, 78 bottles of beer.\n",
      "Take one down and pass it around, 77 bottles of beer on the wall.\n",
      "\n",
      "77 bottles of beer on the wall, 77 bottles of beer.\n",
      "Take one down and pass it around, 76 bottles of beer on the wall.\n",
      "\n",
      "76 bottles of beer on the wall, 76 bottles of beer.\n",
      "Take one down and pass it around, 75 bottles of beer on the wall.\n",
      "\n",
      "75 bottles of beer on the wall, 75 bottles of beer.\n",
      "Take one down and pass it around, 74 bottles of beer on the wall.\n",
      "\n",
      "74 bottles of beer on the wall, 74 bottles of beer.\n",
      "Take one down and pass it around, 73 bottles of beer on the wall.\n",
      "\n",
      "73 bottles of beer on the wall, 73 bottles of beer.\n",
      "Take one down and pass it around, 72 bottles of beer on the wall.\n",
      "\n",
      "72 bottles of beer on the wall, 72 bottles of beer.\n",
      "Take one down and pass it around, 71 bottles of beer on the wall.\n",
      "\n",
      "71 bottles of beer on the wall, 71 bottles of beer.\n",
      "Take one down and pass it around, 70 bottles of beer on the wall.\n",
      "\n",
      "70 bottles of beer on the wall, 70 bottles of beer.\n",
      "Take one down and pass it around, 69 bottles of beer on the wall.\n",
      "\n",
      "69 bottles of beer on the wall, 69 bottles of beer.\n",
      "Take one down and pass it around, 68 bottles of beer on the wall.\n",
      "\n",
      "68 bottles of beer on the wall, 68 bottles of beer.\n",
      "Take one down and pass it around, 67 bottles of beer on the wall.\n",
      "\n",
      "67 bottles of beer on the wall, 67 bottles of beer.\n",
      "Take one down and pass it around, 66 bottles of beer on the wall.\n",
      "\n",
      "66 bottles of beer on the wall, 66 bottles of beer.\n",
      "Take one down and pass it around, 65 bottles of beer on the wall.\n",
      "\n",
      "65 bottles of beer on the wall, 65 bottles of beer.\n",
      "Take one down and pass it around, 64 bottles of beer on the wall.\n",
      "\n",
      "64 bottles of beer on the wall, 64 bottles of beer.\n",
      "Take one down and pass it around, 63 bottles of beer on the wall.\n",
      "\n",
      "63 bottles of beer on the wall, 63 bottles of beer.\n",
      "Take one down and pass it around, 62 bottles of beer on the wall.\n",
      "\n",
      "62 bottles of beer on the wall, 62 bottles of beer.\n",
      "Take one down and pass it around, 61 bottles of beer on the wall.\n",
      "\n",
      "61 bottles of beer on the wall, 61 bottles of beer.\n",
      "Take one down and pass it around, 60 bottles of beer on the wall.\n",
      "\n",
      "60 bottles of beer on the wall, 60 bottles of beer.\n",
      "Take one down and pass it around, 59 bottles of beer on the wall.\n",
      "\n",
      "59 bottles of beer on the wall, 59 bottles of beer.\n",
      "Take one down and pass it around, 58 bottles of beer on the wall.\n",
      "\n",
      "58 bottles of beer on the wall, 58 bottles of beer.\n",
      "Take one down and pass it around, 57 bottles of beer on the wall.\n",
      "\n",
      "57 bottles of beer on the wall, 57 bottles of beer.\n",
      "Take one down and pass it around, 56 bottles of beer on the wall.\n",
      "\n",
      "56 bottles of beer on the wall, 56 bottles of beer.\n",
      "Take one down and pass it around, 55 bottles of beer on the wall.\n",
      "\n",
      "55 bottles of beer on the wall, 55 bottles of beer.\n",
      "Take one down and pass it around, 54 bottles of beer on the wall.\n",
      "\n",
      "54 bottles of beer on the wall, 54 bottles of beer.\n",
      "Take one down and pass it around, 53 bottles of beer on the wall.\n",
      "\n",
      "53 bottles of beer on the wall, 53 bottles of beer.\n",
      "Take one down and pass it around, 52 bottles of beer on the wall.\n",
      "\n",
      "52 bottles of beer on the wall, 52 bottles of beer.\n",
      "Take one down and pass it around, 51 bottles of beer on the wall.\n",
      "\n",
      "51 bottles of beer on the wall, 51 bottles of beer.\n",
      "Take one down and pass it around, 50 bottles of beer on the wall.\n",
      "\n",
      "50 bottles of beer on the wall, 50 bottles of beer.\n",
      "Take one down and pass it around, 49 bottles of beer on the wall.\n",
      "\n",
      "49 bottles of beer on the wall, 49 bottles of beer.\n",
      "Take one down and pass it around, 48 bottles of beer on the wall.\n",
      "\n",
      "48 bottles of beer on the wall, 48 bottles of beer.\n",
      "Take one down and pass it around, 47 bottles of beer on the wall.\n",
      "\n",
      "47 bottles of beer on the wall, 47 bottles of beer.\n",
      "Take one down and pass it around, 46 bottles of beer on the wall.\n",
      "\n",
      "46 bottles of beer on the wall, 46 bottles of beer.\n",
      "Take one down and pass it around, 45 bottles of beer on the wall.\n",
      "\n",
      "45 bottles of beer on the wall, 45 bottles of beer.\n",
      "Take one down and pass it around, 44 bottles of beer on the wall.\n",
      "\n",
      "44 bottles of beer on the wall, 44 bottles of beer.\n",
      "Take one down and pass it around, 43 bottles of beer on the wall.\n",
      "\n",
      "43 bottles of beer on the wall, 43 bottles of beer.\n",
      "Take one down and pass it around, 42 bottles of beer on the wall.\n",
      "\n",
      "42 bottles of beer on the wall, 42 bottles of beer.\n",
      "Take one down and pass it around, 41 bottles of beer on the wall.\n",
      "\n",
      "41 bottles of beer on the wall, 41 bottles of beer.\n",
      "Take one down and pass it around, 40 bottles of beer on the wall.\n",
      "\n",
      "40 bottles of beer on the wall, 40 bottles of beer.\n",
      "Take one down and pass it around, 39 bottles of beer on the wall.\n",
      "\n",
      "39 bottles of beer on the wall, 39 bottles of beer.\n",
      "Take one down and pass it around, 38 bottles of beer on the wall.\n",
      "\n",
      "38 bottles of beer on the wall, 38 bottles of beer.\n",
      "Take one down and pass it around, 37 bottles of beer on the wall.\n",
      "\n",
      "37 bottles of beer on the wall, 37 bottles of beer.\n",
      "Take one down and pass it around, 36 bottles of beer on the wall.\n",
      "\n",
      "36 bottles of beer on the wall, 36 bottles of beer.\n",
      "Take one down and pass it around, 35 bottles of beer on the wall.\n",
      "\n",
      "35 bottles of beer on the wall, 35 bottles of beer.\n",
      "Take one down and pass it around, 34 bottles of beer on the wall.\n",
      "\n",
      "34 bottles of beer on the wall, 34 bottles of beer.\n",
      "Take one down and pass it around, 33 bottles of beer on the wall.\n",
      "\n",
      "33 bottles of beer on the wall, 33 bottles of beer.\n",
      "Take one down and pass it around, 32 bottles of beer on the wall.\n",
      "\n",
      "32 bottles of beer on the wall, 32 bottles of beer.\n",
      "Take one down and pass it around, 31 bottles of beer on the wall.\n",
      "\n",
      "31 bottles of beer on the wall, 31 bottles of beer.\n",
      "Take one down and pass it around, 30 bottles of beer on the wall.\n",
      "\n",
      "30 bottles of beer on the wall, 30 bottles of beer.\n",
      "Take one down and pass it around, 29 bottles of beer on the wall.\n",
      "\n",
      "29 bottles of beer on the wall, 29 bottles of beer.\n",
      "Take one down and pass it around, 28 bottles of beer on the wall.\n",
      "\n",
      "28 bottles of beer on the wall, 28 bottles of beer.\n",
      "Take one down and pass it around, 27 bottles of beer on the wall.\n",
      "\n",
      "27 bottles of beer on the wall, 27 bottles of beer.\n",
      "Take one down and pass it around, 26 bottles of beer on the wall.\n",
      "\n",
      "26 bottles of beer on the wall, 26 bottles of beer.\n",
      "Take one down and pass it around, 25 bottles of beer on the wall.\n",
      "\n",
      "25 bottles of beer on the wall, 25 bottles of beer.\n",
      "Take one down and pass it around, 24 bottles of beer on the wall.\n",
      "\n",
      "24 bottles of beer on the wall, 24 bottles of beer.\n",
      "Take one down and pass it around, 23 bottles of beer on the wall.\n",
      "\n",
      "23 bottles of beer on the wall, 23 bottles of beer.\n",
      "Take one down and pass it around, 22 bottles of beer on the wall.\n",
      "\n",
      "22 bottles of beer on the wall, 22 bottles of beer.\n",
      "Take one down and pass it around, 21 bottles of beer on the wall.\n",
      "\n",
      "21 bottles of beer on the wall, 21 bottles of beer.\n",
      "Take one down and pass it around, 20 bottles of beer on the wall.\n",
      "\n",
      "20 bottles of beer on the wall, 20 bottles of beer.\n",
      "Take one down and pass it around, 19 bottles of beer on the wall.\n",
      "\n",
      "19 bottles of beer on the wall, 19 bottles of beer.\n",
      "Take one down and pass it around, 18 bottles of beer on the wall.\n",
      "\n",
      "18 bottles of beer on the wall, 18 bottles of beer.\n",
      "Take one down and pass it around, 17 bottles of beer on the wall.\n",
      "\n",
      "17 bottles of beer on the wall, 17 bottles of beer.\n",
      "Take one down and pass it around, 16 bottles of beer on the wall.\n",
      "\n",
      "16 bottles of beer on the wall, 16 bottles of beer.\n",
      "Take one down and pass it around, 15 bottles of beer on the wall.\n",
      "\n",
      "15 bottles of beer on the wall, 15 bottles of beer.\n",
      "Take one down and pass it around, 14 bottles of beer on the wall.\n",
      "\n",
      "14 bottles of beer on the wall, 14 bottles of beer.\n",
      "Take one down and pass it around, 13 bottles of beer on the wall.\n",
      "\n",
      "13 bottles of beer on the wall, 13 bottles of beer.\n",
      "Take one down and pass it around, 12 bottles of beer on the wall.\n",
      "\n",
      "12 bottles of beer on the wall, 12 bottles of beer.\n",
      "Take one down and pass it around, 11 bottles of beer on the wall.\n",
      "\n",
      "11 bottles of beer on the wall, 11 bottles of beer.\n",
      "Take one down and pass it around, 10 bottles of beer on the wall.\n",
      "\n",
      "10 bottles of beer on the wall, 10 bottles of beer.\n",
      "Take one down and pass it around, 9 bottles of beer on the wall.\n",
      "\n",
      "9 bottles of beer on the wall, 9 bottles of beer.\n",
      "Take one down and pass it around, 8 bottles of beer on the wall.\n",
      "\n",
      "8 bottles of beer on the wall, 8 bottles of beer.\n",
      "Take one down and pass it around, 7 bottles of beer on the wall.\n",
      "\n",
      "7 bottles of beer on the wall, 7 bottles of beer.\n",
      "Take one down and pass it around, 6 bottles of beer on the wall.\n",
      "\n",
      "6 bottles of beer on the wall, 6 bottles of beer.\n",
      "Take one down and pass it around, 5 bottles of beer on the wall.\n",
      "\n",
      "5 bottles of beer on the wall, 5 bottles of beer.\n",
      "Take one down and pass it around, 4 bottles of beer on the wall.\n",
      "\n",
      "4 bottles of beer on the wall, 4 bottles of beer.\n",
      "Take one down and pass it around, 3 bottles of beer on the wall.\n",
      "\n",
      "3 bottles of beer on the wall, 3 bottles of beer.\n",
      "Take one down and pass it around, 2 bottles of beer on the wall.\n",
      "\n",
      "2 bottles of beer on the wall, 2 bottles of beer.\n",
      "Take one down and pass it around, 1 bottle of beer on the wall.\n",
      "\n",
      "1 bottle of beer on the wall, 1 bottle of beer.\n",
      "Take one down and pass it around, no more bottles of beer on the wall.\n",
      "\n",
      "No more bottles of beer on the wall, no more bottles of beer.\n",
      "Go to the store and buy some more, 99 bottles of beer on the wall.\n"
     ]
    }
   ],
   "source": [
    "imported_text_bottle = open(\"songs/99-bottes-of-beer.txt\",\"r\")\n",
    "text_2 = imported_text_bottle.read()\n",
    "print(text_2)"
   ]
  },
  {
   "cell_type": "code",
   "execution_count": 43,
   "metadata": {},
   "outputs": [],
   "source": [
    "total = 99\n",
    "bottl = 100\n",
    "def bottles_lyrics(total,bottl):\n",
    "    a = \"\" \n",
    "    while bottl:\n",
    "        bottl-=1\n",
    "        bottles = str(bottl)\n",
    "        bottles2 = str(bottl-1)\n",
    "        a += (bottles+\" bottles of beer on the wall, \"+bottles+\" bottles of beer.\\n Take one down and pass it around, \"+bottles2+\" bottles of beer on the wall.\\n\")\n",
    "        if bottles==1:\n",
    "            break    \n",
    "    total_bottle = str(total)\n",
    "    b = \"No more bottles of beer on the wall, no more bottles of beer.\\n Go to the store and buy some more, \"+total_bottle+\" bottles of beer on the wall.\"\n",
    "    return a+b\n"
   ]
  },
  {
   "cell_type": "code",
   "execution_count": 49,
   "metadata": {},
   "outputs": [
    {
     "data": {
      "text/plain": [
       "'99 bottles of beer on the wall, 99 bottles of beer.\\n Take one down and pass it around, 98 bottles of beer on the wall.\\n98 bottles of beer on the wall, 98 bottles of beer.\\n Take one down and pass it around, 97 bottles of beer on the wall.\\n97 bottles of beer on the wall, 97 bottles of beer.\\n Take one down and pass it around, 96 bottles of beer on the wall.\\n96 bottles of beer on the wall, 96 bottles of beer.\\n Take one down and pass it around, 95 bottles of beer on the wall.\\n95 bottles of beer on the wall, 95 bottles of beer.\\n Take one down and pass it around, 94 bottles of beer on the wall.\\n94 bottles of beer on the wall, 94 bottles of beer.\\n Take one down and pass it around, 93 bottles of beer on the wall.\\n93 bottles of beer on the wall, 93 bottles of beer.\\n Take one down and pass it around, 92 bottles of beer on the wall.\\n92 bottles of beer on the wall, 92 bottles of beer.\\n Take one down and pass it around, 91 bottles of beer on the wall.\\n91 bottles of beer on the wall, 91 bottles of beer.\\n Take one down and pass it around, 90 bottles of beer on the wall.\\n90 bottles of beer on the wall, 90 bottles of beer.\\n Take one down and pass it around, 89 bottles of beer on the wall.\\n89 bottles of beer on the wall, 89 bottles of beer.\\n Take one down and pass it around, 88 bottles of beer on the wall.\\n88 bottles of beer on the wall, 88 bottles of beer.\\n Take one down and pass it around, 87 bottles of beer on the wall.\\n87 bottles of beer on the wall, 87 bottles of beer.\\n Take one down and pass it around, 86 bottles of beer on the wall.\\n86 bottles of beer on the wall, 86 bottles of beer.\\n Take one down and pass it around, 85 bottles of beer on the wall.\\n85 bottles of beer on the wall, 85 bottles of beer.\\n Take one down and pass it around, 84 bottles of beer on the wall.\\n84 bottles of beer on the wall, 84 bottles of beer.\\n Take one down and pass it around, 83 bottles of beer on the wall.\\n83 bottles of beer on the wall, 83 bottles of beer.\\n Take one down and pass it around, 82 bottles of beer on the wall.\\n82 bottles of beer on the wall, 82 bottles of beer.\\n Take one down and pass it around, 81 bottles of beer on the wall.\\n81 bottles of beer on the wall, 81 bottles of beer.\\n Take one down and pass it around, 80 bottles of beer on the wall.\\n80 bottles of beer on the wall, 80 bottles of beer.\\n Take one down and pass it around, 79 bottles of beer on the wall.\\n79 bottles of beer on the wall, 79 bottles of beer.\\n Take one down and pass it around, 78 bottles of beer on the wall.\\n78 bottles of beer on the wall, 78 bottles of beer.\\n Take one down and pass it around, 77 bottles of beer on the wall.\\n77 bottles of beer on the wall, 77 bottles of beer.\\n Take one down and pass it around, 76 bottles of beer on the wall.\\n76 bottles of beer on the wall, 76 bottles of beer.\\n Take one down and pass it around, 75 bottles of beer on the wall.\\n75 bottles of beer on the wall, 75 bottles of beer.\\n Take one down and pass it around, 74 bottles of beer on the wall.\\n74 bottles of beer on the wall, 74 bottles of beer.\\n Take one down and pass it around, 73 bottles of beer on the wall.\\n73 bottles of beer on the wall, 73 bottles of beer.\\n Take one down and pass it around, 72 bottles of beer on the wall.\\n72 bottles of beer on the wall, 72 bottles of beer.\\n Take one down and pass it around, 71 bottles of beer on the wall.\\n71 bottles of beer on the wall, 71 bottles of beer.\\n Take one down and pass it around, 70 bottles of beer on the wall.\\n70 bottles of beer on the wall, 70 bottles of beer.\\n Take one down and pass it around, 69 bottles of beer on the wall.\\n69 bottles of beer on the wall, 69 bottles of beer.\\n Take one down and pass it around, 68 bottles of beer on the wall.\\n68 bottles of beer on the wall, 68 bottles of beer.\\n Take one down and pass it around, 67 bottles of beer on the wall.\\n67 bottles of beer on the wall, 67 bottles of beer.\\n Take one down and pass it around, 66 bottles of beer on the wall.\\n66 bottles of beer on the wall, 66 bottles of beer.\\n Take one down and pass it around, 65 bottles of beer on the wall.\\n65 bottles of beer on the wall, 65 bottles of beer.\\n Take one down and pass it around, 64 bottles of beer on the wall.\\n64 bottles of beer on the wall, 64 bottles of beer.\\n Take one down and pass it around, 63 bottles of beer on the wall.\\n63 bottles of beer on the wall, 63 bottles of beer.\\n Take one down and pass it around, 62 bottles of beer on the wall.\\n62 bottles of beer on the wall, 62 bottles of beer.\\n Take one down and pass it around, 61 bottles of beer on the wall.\\n61 bottles of beer on the wall, 61 bottles of beer.\\n Take one down and pass it around, 60 bottles of beer on the wall.\\n60 bottles of beer on the wall, 60 bottles of beer.\\n Take one down and pass it around, 59 bottles of beer on the wall.\\n59 bottles of beer on the wall, 59 bottles of beer.\\n Take one down and pass it around, 58 bottles of beer on the wall.\\n58 bottles of beer on the wall, 58 bottles of beer.\\n Take one down and pass it around, 57 bottles of beer on the wall.\\n57 bottles of beer on the wall, 57 bottles of beer.\\n Take one down and pass it around, 56 bottles of beer on the wall.\\n56 bottles of beer on the wall, 56 bottles of beer.\\n Take one down and pass it around, 55 bottles of beer on the wall.\\n55 bottles of beer on the wall, 55 bottles of beer.\\n Take one down and pass it around, 54 bottles of beer on the wall.\\n54 bottles of beer on the wall, 54 bottles of beer.\\n Take one down and pass it around, 53 bottles of beer on the wall.\\n53 bottles of beer on the wall, 53 bottles of beer.\\n Take one down and pass it around, 52 bottles of beer on the wall.\\n52 bottles of beer on the wall, 52 bottles of beer.\\n Take one down and pass it around, 51 bottles of beer on the wall.\\n51 bottles of beer on the wall, 51 bottles of beer.\\n Take one down and pass it around, 50 bottles of beer on the wall.\\n50 bottles of beer on the wall, 50 bottles of beer.\\n Take one down and pass it around, 49 bottles of beer on the wall.\\n49 bottles of beer on the wall, 49 bottles of beer.\\n Take one down and pass it around, 48 bottles of beer on the wall.\\n48 bottles of beer on the wall, 48 bottles of beer.\\n Take one down and pass it around, 47 bottles of beer on the wall.\\n47 bottles of beer on the wall, 47 bottles of beer.\\n Take one down and pass it around, 46 bottles of beer on the wall.\\n46 bottles of beer on the wall, 46 bottles of beer.\\n Take one down and pass it around, 45 bottles of beer on the wall.\\n45 bottles of beer on the wall, 45 bottles of beer.\\n Take one down and pass it around, 44 bottles of beer on the wall.\\n44 bottles of beer on the wall, 44 bottles of beer.\\n Take one down and pass it around, 43 bottles of beer on the wall.\\n43 bottles of beer on the wall, 43 bottles of beer.\\n Take one down and pass it around, 42 bottles of beer on the wall.\\n42 bottles of beer on the wall, 42 bottles of beer.\\n Take one down and pass it around, 41 bottles of beer on the wall.\\n41 bottles of beer on the wall, 41 bottles of beer.\\n Take one down and pass it around, 40 bottles of beer on the wall.\\n40 bottles of beer on the wall, 40 bottles of beer.\\n Take one down and pass it around, 39 bottles of beer on the wall.\\n39 bottles of beer on the wall, 39 bottles of beer.\\n Take one down and pass it around, 38 bottles of beer on the wall.\\n38 bottles of beer on the wall, 38 bottles of beer.\\n Take one down and pass it around, 37 bottles of beer on the wall.\\n37 bottles of beer on the wall, 37 bottles of beer.\\n Take one down and pass it around, 36 bottles of beer on the wall.\\n36 bottles of beer on the wall, 36 bottles of beer.\\n Take one down and pass it around, 35 bottles of beer on the wall.\\n35 bottles of beer on the wall, 35 bottles of beer.\\n Take one down and pass it around, 34 bottles of beer on the wall.\\n34 bottles of beer on the wall, 34 bottles of beer.\\n Take one down and pass it around, 33 bottles of beer on the wall.\\n33 bottles of beer on the wall, 33 bottles of beer.\\n Take one down and pass it around, 32 bottles of beer on the wall.\\n32 bottles of beer on the wall, 32 bottles of beer.\\n Take one down and pass it around, 31 bottles of beer on the wall.\\n31 bottles of beer on the wall, 31 bottles of beer.\\n Take one down and pass it around, 30 bottles of beer on the wall.\\n30 bottles of beer on the wall, 30 bottles of beer.\\n Take one down and pass it around, 29 bottles of beer on the wall.\\n29 bottles of beer on the wall, 29 bottles of beer.\\n Take one down and pass it around, 28 bottles of beer on the wall.\\n28 bottles of beer on the wall, 28 bottles of beer.\\n Take one down and pass it around, 27 bottles of beer on the wall.\\n27 bottles of beer on the wall, 27 bottles of beer.\\n Take one down and pass it around, 26 bottles of beer on the wall.\\n26 bottles of beer on the wall, 26 bottles of beer.\\n Take one down and pass it around, 25 bottles of beer on the wall.\\n25 bottles of beer on the wall, 25 bottles of beer.\\n Take one down and pass it around, 24 bottles of beer on the wall.\\n24 bottles of beer on the wall, 24 bottles of beer.\\n Take one down and pass it around, 23 bottles of beer on the wall.\\n23 bottles of beer on the wall, 23 bottles of beer.\\n Take one down and pass it around, 22 bottles of beer on the wall.\\n22 bottles of beer on the wall, 22 bottles of beer.\\n Take one down and pass it around, 21 bottles of beer on the wall.\\n21 bottles of beer on the wall, 21 bottles of beer.\\n Take one down and pass it around, 20 bottles of beer on the wall.\\n20 bottles of beer on the wall, 20 bottles of beer.\\n Take one down and pass it around, 19 bottles of beer on the wall.\\n19 bottles of beer on the wall, 19 bottles of beer.\\n Take one down and pass it around, 18 bottles of beer on the wall.\\n18 bottles of beer on the wall, 18 bottles of beer.\\n Take one down and pass it around, 17 bottles of beer on the wall.\\n17 bottles of beer on the wall, 17 bottles of beer.\\n Take one down and pass it around, 16 bottles of beer on the wall.\\n16 bottles of beer on the wall, 16 bottles of beer.\\n Take one down and pass it around, 15 bottles of beer on the wall.\\n15 bottles of beer on the wall, 15 bottles of beer.\\n Take one down and pass it around, 14 bottles of beer on the wall.\\n14 bottles of beer on the wall, 14 bottles of beer.\\n Take one down and pass it around, 13 bottles of beer on the wall.\\n13 bottles of beer on the wall, 13 bottles of beer.\\n Take one down and pass it around, 12 bottles of beer on the wall.\\n12 bottles of beer on the wall, 12 bottles of beer.\\n Take one down and pass it around, 11 bottles of beer on the wall.\\n11 bottles of beer on the wall, 11 bottles of beer.\\n Take one down and pass it around, 10 bottles of beer on the wall.\\n10 bottles of beer on the wall, 10 bottles of beer.\\n Take one down and pass it around, 9 bottles of beer on the wall.\\n9 bottles of beer on the wall, 9 bottles of beer.\\n Take one down and pass it around, 8 bottles of beer on the wall.\\n8 bottles of beer on the wall, 8 bottles of beer.\\n Take one down and pass it around, 7 bottles of beer on the wall.\\n7 bottles of beer on the wall, 7 bottles of beer.\\n Take one down and pass it around, 6 bottles of beer on the wall.\\n6 bottles of beer on the wall, 6 bottles of beer.\\n Take one down and pass it around, 5 bottles of beer on the wall.\\n5 bottles of beer on the wall, 5 bottles of beer.\\n Take one down and pass it around, 4 bottles of beer on the wall.\\n4 bottles of beer on the wall, 4 bottles of beer.\\n Take one down and pass it around, 3 bottles of beer on the wall.\\n3 bottles of beer on the wall, 3 bottles of beer.\\n Take one down and pass it around, 2 bottles of beer on the wall.\\n2 bottles of beer on the wall, 2 bottles of beer.\\n Take one down and pass it around, 1 bottles of beer on the wall.\\n1 bottles of beer on the wall, 1 bottles of beer.\\n Take one down and pass it around, 0 bottles of beer on the wall.\\n0 bottles of beer on the wall, 0 bottles of beer.\\n Take one down and pass it around, -1 bottles of beer on the wall.\\nNo more bottles of beer on the wall, no more bottles of beer.\\n Go to the store and buy some more, 99 bottles of beer on the wall.'"
      ]
     },
     "execution_count": 49,
     "metadata": {},
     "output_type": "execute_result"
    }
   ],
   "source": [
    "bottles_lyrics(total_bottle,bottl)\n",
    "#En este ejercicio no tengo muy claro si hay que utilizar un While como lo he hecho o un For. \n",
    "#Y por ello no sé si esta manera pudiera ser la correcta. Ya que el plateamiento creo que esta bien pero\n",
    "#falta que el texto se pueda leer de manera correcta con los ºn y demás....."
   ]
  },
  {
   "cell_type": "markdown",
   "metadata": {},
   "source": [
    "### Step 2. Open file"
   ]
  },
  {
   "cell_type": "code",
   "execution_count": 47,
   "metadata": {},
   "outputs": [],
   "source": [
    "# your code here. "
   ]
  },
  {
   "cell_type": "code",
   "execution_count": null,
   "metadata": {},
   "outputs": [],
   "source": [
    "# Check\n",
    "print(bottles_lyrics() == text)"
   ]
  },
  {
   "cell_type": "markdown",
   "metadata": {},
   "source": [
    "**Expected output**:\n",
    "\n",
    "```\n",
    "True\n",
    "```"
   ]
  },
  {
   "cell_type": "markdown",
   "metadata": {},
   "source": [
    "### Step 3: Check code\n",
    "Now I want you to refactor your **bottles_lyrics** function in order to be less than 1000 characters. "
   ]
  },
  {
   "cell_type": "code",
   "execution_count": null,
   "metadata": {},
   "outputs": [],
   "source": [
    "import inspect\n",
    "\n",
    "code = inspect.getsource(bottles_lyrics)"
   ]
  },
  {
   "cell_type": "code",
   "execution_count": null,
   "metadata": {},
   "outputs": [],
   "source": [
    "# check\n",
    "\n",
    "print('Your bottles_lyrics functions has {} characters'.format(len(code)))\n",
    "print(len(code) < 1000)"
   ]
  },
  {
   "cell_type": "markdown",
   "metadata": {},
   "source": [
    "**Expected output**:\n",
    "\n",
    "```\n",
    "Your bottles_lyrics functions has 837 characters\n",
    "True\n",
    "```"
   ]
  },
  {
   "cell_type": "markdown",
   "metadata": {},
   "source": [
    "If you want a real challenge, follow the link below. Sign in and start coding!\n",
    "\n",
    "https://www.codewars.com/kata/baby-shark-lyrics-generator/train/python"
   ]
  }
 ],
 "metadata": {
  "kernelspec": {
   "display_name": "Python 3",
   "language": "python",
   "name": "python3"
  },
  "language_info": {
   "codemirror_mode": {
    "name": "ipython",
    "version": 3
   },
   "file_extension": ".py",
   "mimetype": "text/x-python",
   "name": "python",
   "nbconvert_exporter": "python",
   "pygments_lexer": "ipython3",
   "version": "3.8.5"
  }
 },
 "nbformat": 4,
 "nbformat_minor": 2
}
