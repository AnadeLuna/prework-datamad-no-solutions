{
 "cells": [
  {
   "cell_type": "markdown",
   "metadata": {},
   "source": [
    "# Robin Hood\n",
    "## Intro\n",
    "We are in a competition to win the archery contest in Sherwood. With our bow and arrows we shoot on a target and try to hit as close as possible to the center.\n",
    "\n",
    "The center of the target is represented by the values (0, 0) on the coordinate axes.\n",
    "\n",
    "![](images/arrows.jpg)\n",
    "\n",
    "## Goals:\n",
    "* data structures: lists, sets, tuples\n",
    "* logical operators: if-elif-else\n",
    "* loop: while/for\n",
    "* minimum (optional sorting)\n",
    "\n",
    "## Description:\n",
    "In the 2-dimensional space, a point can be defined by a pair of values that correspond to the horizontal coordinate (x) and the vertical coordinate (y). The space can be divided into 4 zones (quadrants): Q1, Q2, Q3, Q4. Whose single point of union is the point (0, 0).\n",
    "\n",
    "If a point is in Q1 both its x coordinate and the y are positive. I leave a link to wikipedia to familiarize yourself with these quadrants.\n",
    "\n",
    "https://en.wikipedia.org/wiki/Cartesian_coordinate_system\n",
    "\n",
    "https://en.wikipedia.org/wiki/Euclidean_distance\n",
    "\n",
    "## Shots\n",
    "```\n",
    "points = [(4, 5), (-0, 2), (4, 7), (1, -3), (3, -2), (4, 5),\n",
    "          (3, 2), (5, 7), (-5, 7), (2, 2), (-4, 5), (0, -2),\n",
    "          (-4, 7), (-1, 3), (-3, 2), (-4, -5), (-3, 2),\n",
    "          (5, 7), (5, 7), (2, 2), (9, 9), (-8, -9)]\n",
    "```\n",
    "\n",
    "## Tasks\n",
    "1. Robin Hood is famous for hitting an arrow with another arrow. Did you get it?\n",
    "2. Calculate how many arrows have fallen in each quadrant.\n",
    "3. Find the point closest to the center. Calculate its distance to the center. \n",
    "4. If the target has a radius of 9, calculate the number of arrows that must be picked up in the forest."
   ]
  },
  {
   "cell_type": "code",
   "execution_count": 1,
   "metadata": {},
   "outputs": [],
   "source": [
    "# Variables\n",
    "\n",
    "points = [(4, 5), (-0, 2), (4, 7), (1, -3), (3, -2), (4, 5),\n",
    "          (3, 2), (5, 7), (-5, 7), (2, 2), (-4, 5), (0, -2),\n",
    "          (-4, 7), (-1, 3), (-3, 2), (-4, -5), (-3, 2),\n",
    "          (5, 7), (5, 7), (2, 2), (9, 9), (-8, -9)]"
   ]
  },
  {
   "cell_type": "code",
   "execution_count": 2,
   "metadata": {},
   "outputs": [],
   "source": [
    "# 1. Robin Hood is famous for hitting an arrow with another arrow. Did you get it?"
   ]
  },
  {
   "cell_type": "code",
   "execution_count": 3,
   "metadata": {},
   "outputs": [
    {
     "name": "stdout",
     "output_type": "stream",
     "text": [
      "Cordenadas que repite Roobin Hood [(4, 5), (-3, 2), (5, 7), (5, 7), (2, 2)] \n",
      "\n",
      "Total de flechas repetidas: 5 \n",
      "\n",
      "Cordenadas únicas [(4, 5), (0, 2), (4, 7), (1, -3), (3, -2), (3, 2), (5, 7), (-5, 7), (2, 2), (-4, 5), (0, -2), (-4, 7), (-1, 3), (-3, 2), (-4, -5), (9, 9), (-8, -9)] \n",
      "\n",
      "True\n"
     ]
    }
   ],
   "source": [
    "points_unicos = []\n",
    "points_repetidos = []\n",
    "    \n",
    "for p in points:\n",
    "    if p not in points_unicos:\n",
    "        points_unicos.append(p)\n",
    "    else:\n",
    "        points_repetidos.append(p)\n",
    "        \n",
    "        \n",
    "print(\"Cordenadas que repite Roobin Hood\",points_repetidos, \"\\n\")\n",
    "print(\"Total de flechas repetidas:\",len(points_repetidos), \"\\n\")\n",
    "print(\"Cordenadas únicas\",points_unicos, \"\\n\")\n",
    "\n",
    "\n",
    "print(len(points_repetidos)>0)\n"
   ]
  },
  {
   "cell_type": "markdown",
   "metadata": {},
   "source": [
    "**Expected output**:\n",
    "```\n",
    "True\n",
    "```"
   ]
  },
  {
   "cell_type": "code",
   "execution_count": 4,
   "metadata": {},
   "outputs": [],
   "source": [
    "# 2. Calculate how many arrows have fallen in each quadrant."
   ]
  },
  {
   "cell_type": "code",
   "execution_count": 5,
   "metadata": {},
   "outputs": [
    {
     "name": "stdout",
     "output_type": "stream",
     "text": [
      "Cordenadas del cuadrante Q1 = [(4, 5), (4, 7), (4, 5), (3, 2), (5, 7), (2, 2), (5, 7), (5, 7), (2, 2), (9, 9)]\n",
      "Flechas en Q1 = 10 \n",
      "\n",
      "Cordenadas del cuadrante Q2 = [(1, -3), (3, -2)]\n",
      "Flechas en Q2 = 2 \n",
      "\n",
      "Cordenadas del cuadrante Q3 = [(-4, -5), (-8, -9)]\n",
      "Flechas en Q3 = 2 \n",
      "\n",
      "Cordenadas del cuadrante Q4 = [(-5, 7), (-4, 5), (-4, 7), (-1, 3), (-3, 2), (-3, 2)]\n",
      "Flechas en Q4 = 6\n"
     ]
    }
   ],
   "source": [
    "Q_1 = []\n",
    "Q_2 = []\n",
    "Q_3 = []\n",
    "Q_4 = []\n",
    "\n",
    "for p in points:\n",
    "    if p[0]>0 and p[1]>0:\n",
    "        Q_1.append(p)\n",
    "           \n",
    "    elif p[0]>0 and p[1]<0:\n",
    "        Q_2.append(p)\n",
    "        \n",
    "    elif p[0]<0 and p[1]<0:\n",
    "        Q_3.append(p)\n",
    "  \n",
    "    elif p[0]<0 and p[1]>0:\n",
    "        Q_4.append(p)\n",
    "       \n",
    "\n",
    "print(\"Cordenadas del cuadrante Q1 =\",Q_1)\n",
    "print(\"Flechas en Q1 =\", len(Q_1), \"\\n\")\n",
    "print(\"Cordenadas del cuadrante Q2 =\",Q_2)\n",
    "print(\"Flechas en Q2 =\",len(Q_2),\"\\n\")\n",
    "print(\"Cordenadas del cuadrante Q3 =\", Q_3)\n",
    "print(\"Flechas en Q3 =\", len(Q_3),\"\\n\")\n",
    "print(\"Cordenadas del cuadrante Q4 =\",Q_4)\n",
    "print(\"Flechas en Q4 =\",len(Q_4))"
   ]
  },
  {
   "cell_type": "markdown",
   "metadata": {},
   "source": [
    "**Expected output**:\n",
    "```\n",
    "(10, 6, 2, 2)\n",
    "```"
   ]
  },
  {
   "cell_type": "code",
   "execution_count": 6,
   "metadata": {},
   "outputs": [],
   "source": [
    "# 3. Find the point closest to the center. Calculate its distance to the center\n",
    "# Defining a function that calculates the distance to the center can help."
   ]
  },
  {
   "cell_type": "code",
   "execution_count": 7,
   "metadata": {},
   "outputs": [
    {
     "name": "stdout",
     "output_type": "stream",
     "text": [
      "Points_distance [(6.4031242374328485, (4, 5)), (2.0, (0, 2)), (8.06225774829855, (4, 7)), (3.1622776601683795, (1, -3)), (3.605551275463989, (3, -2)), (3.605551275463989, (3, 2)), (8.602325267042627, (5, 7)), (8.602325267042627, (-5, 7)), (2.8284271247461903, (2, 2)), (6.4031242374328485, (-4, 5)), (2.0, (0, -2)), (8.06225774829855, (-4, 7)), (3.1622776601683795, (-1, 3)), (3.605551275463989, (-3, 2)), (6.4031242374328485, (-4, -5)), (12.727922061357855, (9, 9)), (12.041594578792296, (-8, -9))]\n",
      "\n",
      "\n",
      "Mínimo de points_distance (2.0, (0, -2))\n"
     ]
    }
   ],
   "source": [
    "points_unicos\n",
    "Centro = (0,0)\n",
    "\n",
    "from math import sqrt\n",
    "def euc_distance(x1,x2,y1,y2):\n",
    "    return(sqrt((x1-x2)**2+(y1-y2)**2))\n",
    "\n",
    "points_distance = []\n",
    "\n",
    "for p in points_unicos:\n",
    "    p_y_d = euc_distance(0,p[0],0,p[1]),p\n",
    "    points_distance.append(p_y_d)\n",
    "print(\"Points_distance\",points_distance)\n",
    "\n",
    "print(\"\\n\")\n",
    "print(\"Mínimo de points_distance\", min(points_distance))\n",
    "\n"
   ]
  },
  {
   "cell_type": "markdown",
   "metadata": {},
   "source": [
    "**Expected output**:\n",
    "```\n",
    "(0, 2)\n",
    "2.0\n",
    "```"
   ]
  },
  {
   "cell_type": "code",
   "execution_count": 8,
   "metadata": {},
   "outputs": [],
   "source": [
    "# 4. If the target has a radius of 9, calculate the number of arrows that \n",
    "# must be picked up in the forest."
   ]
  },
  {
   "cell_type": "code",
   "execution_count": 9,
   "metadata": {},
   "outputs": [
    {
     "name": "stdout",
     "output_type": "stream",
     "text": [
      "[(9, 9), (-8, -9)]\n",
      "2\n"
     ]
    }
   ],
   "source": [
    "points_distance\n",
    "radius = 9\n",
    "points_out = []\n",
    "\n",
    "for p in points_distance:\n",
    "    if p[0]>9:\n",
    "        points_out.append(p[1])\n",
    "        \n",
    "print(points_out)\n",
    "print(len(points_out))"
   ]
  },
  {
   "cell_type": "markdown",
   "metadata": {},
   "source": [
    "**Expected output**:\n",
    "```\n",
    "[(9, 9), (-8, -9)]\n",
    "2\n",
    "```"
   ]
  },
  {
   "cell_type": "code",
   "execution_count": null,
   "metadata": {},
   "outputs": [],
   "source": []
  }
 ],
 "metadata": {
  "kernelspec": {
   "display_name": "Python 3",
   "language": "python",
   "name": "python3"
  },
  "language_info": {
   "codemirror_mode": {
    "name": "ipython",
    "version": 3
   },
   "file_extension": ".py",
   "mimetype": "text/x-python",
   "name": "python",
   "nbconvert_exporter": "python",
   "pygments_lexer": "ipython3",
   "version": "3.8.5"
  }
 },
 "nbformat": 4,
 "nbformat_minor": 2
}
