{
 "cells": [
  {
   "cell_type": "markdown",
   "metadata": {},
   "source": [
    "# Snail and well\n",
    "\n",
    "A snail falls at the bottom of a 125 cm well. Each day the snail rises 30 cm. But at night, while sleeping, slides 20 cm because the walls are wet. How many days does it take to escape from the well?\n",
    "\n",
    "TIP: http://puzzles.nigelcoldwell.co.uk/sixtytwo.htm"
   ]
  },
  {
   "cell_type": "markdown",
   "metadata": {},
   "source": [
    "## Solución"
   ]
  },
  {
   "cell_type": "code",
   "execution_count": 1,
   "metadata": {},
   "outputs": [],
   "source": [
    "# Assign problem data to variables with representative names\n",
    "# well height, daily advance, night retreat, accumulated distance\n",
    "\n",
    "\n",
    "# Assign 0 to the variable that represents the solution\n",
    "\n",
    "\n",
    "# Write the code that solves the problem\n",
    "\n",
    "\n",
    "# Print the result with print('Days =', days)\n"
   ]
  },
  {
   "cell_type": "code",
   "execution_count": 4,
   "metadata": {},
   "outputs": [
    {
     "name": "stdout",
     "output_type": "stream",
     "text": [
      "El Caracol no ha salido \n",
      "\n",
      "1. El Caracol lleva recorrido 0 cm en 0 días.\n",
      "2. La posición del Caracol aumenta durante el día a 30 cm.\n",
      "3. Y los días que lleva el Caracol de camino son 1 días. \n",
      "\n",
      "El Caracol está de camino \n",
      "\n",
      "1. El Caracol lleva recorrido 10 cm en 1 días.\n",
      "2. La posición del Caracol aumenta durante el día a 40 cm.\n",
      "3. Y los días que lleva el Caracol de camino son 2 días. \n",
      "\n",
      "El Caracol está de camino \n",
      "\n",
      "1. El Caracol lleva recorrido 20 cm en 2 días.\n",
      "2. La posición del Caracol aumenta durante el día a 50 cm.\n",
      "3. Y los días que lleva el Caracol de camino son 3 días. \n",
      "\n",
      "El Caracol está de camino \n",
      "\n",
      "1. El Caracol lleva recorrido 30 cm en 3 días.\n",
      "2. La posición del Caracol aumenta durante el día a 60 cm.\n",
      "3. Y los días que lleva el Caracol de camino son 4 días. \n",
      "\n",
      "El Caracol está de camino \n",
      "\n",
      "1. El Caracol lleva recorrido 40 cm en 4 días.\n",
      "2. La posición del Caracol aumenta durante el día a 70 cm.\n",
      "3. Y los días que lleva el Caracol de camino son 5 días. \n",
      "\n",
      "El Caracol está de camino \n",
      "\n",
      "1. El Caracol lleva recorrido 50 cm en 5 días.\n",
      "2. La posición del Caracol aumenta durante el día a 80 cm.\n",
      "3. Y los días que lleva el Caracol de camino son 6 días. \n",
      "\n",
      "El Caracol está de camino \n",
      "\n",
      "1. El Caracol lleva recorrido 60 cm en 6 días.\n",
      "2. La posición del Caracol aumenta durante el día a 90 cm.\n",
      "3. Y los días que lleva el Caracol de camino son 7 días. \n",
      "\n",
      "El Caracol está de camino \n",
      "\n",
      "1. El Caracol lleva recorrido 70 cm en 7 días.\n",
      "2. La posición del Caracol aumenta durante el día a 100 cm.\n",
      "3. Y los días que lleva el Caracol de camino son 8 días. \n",
      "\n",
      "El Caracol está de camino \n",
      "\n",
      "1. El Caracol lleva recorrido 80 cm en 8 días.\n",
      "2. La posición del Caracol aumenta durante el día a 110 cm.\n",
      "3. Y los días que lleva el Caracol de camino son 9 días. \n",
      "\n",
      "El Caracol está de camino \n",
      "\n",
      "1. El Caracol lleva recorrido 90 cm en 9 días.\n",
      "2. La posición del Caracol aumenta durante el día a 120 cm.\n",
      "3. Y los días que lleva el Caracol de camino son 10 días. \n",
      "\n",
      "El Caracol está de camino \n",
      "\n",
      "1. El Caracol lleva recorrido 100 cm en 10 días.\n",
      "2. La posición del Caracol aumenta durante el día a 130 cm.\n",
      "3. Y los días que lleva el Caracol de camino son 11 días. \n",
      "\n",
      "El caracol ha superado los 125 cm y por lo tanto ha salido del pozo.\n",
      "\n",
      "\n",
      "El Carcacol salió del pozo el día 11 .\n"
     ]
    }
   ],
   "source": [
    "well_height=125\n",
    "daily_distance=30\n",
    "nightly_distance=20\n",
    "snail_position=0\n",
    "days=0\n",
    "\n",
    "while snail_position<=well_height:\n",
    "    if snail_position==0:\n",
    "        print(\"El Caracol no ha salido \\n\")\n",
    "    elif snail_position<well_height:\n",
    "        print(\"El Caracol está de camino \\n\")      \n",
    "    print(\"1. El Caracol lleva recorrido\", snail_position, \"cm\", \"en\", days, \"días.\")\n",
    "    snail_position+=daily_distance\n",
    "    print(\"2. La posición del Caracol aumenta durante el día a\",snail_position, \"cm.\")\n",
    "    days+=1\n",
    "    print(\"3. Y los días que lleva el Caracol de camino son\", days,\"días. \\n\")\n",
    "    if snail_position>well_height:\n",
    "        break\n",
    "    snail_position-=nightly_distance\n",
    "print(\"El caracol ha superado los 125 cm y por lo tanto ha salido del pozo.\")\n",
    "\n",
    "print(\"\\n\")\n",
    "print(\"El Carcacol salió del pozo el día\", days, \".\")"
   ]
  },
  {
   "cell_type": "markdown",
   "metadata": {},
   "source": [
    "**Expected output**: \n",
    "```\n",
    "Days = 11\n",
    "```"
   ]
  },
  {
   "cell_type": "markdown",
   "metadata": {},
   "source": [
    "## Goals\n",
    "\n",
    "1. Treatment of variables\n",
    "2. Use of loop **while**\n",
    "3. Use of conditional **if-else**\n",
    "4. Print in console"
   ]
  },
  {
   "cell_type": "markdown",
   "metadata": {},
   "source": [
    "## Bonus\n",
    "The distance traveled by the snail is now defined by a list.\n",
    "```\n",
    "advance_cm = [30, 21, 33, 77, 44, 45, 23, 45, 12, 34, 55]\n",
    "```\n",
    "How long does it take to raise the well?\n",
    "\n",
    "What is its maximum displacement in one day? And its minimum?\n",
    "\n",
    "What is its average speed during the day?\n",
    "\n",
    "What is the standard deviation of its displacement during the day?"
   ]
  },
  {
   "cell_type": "code",
   "execution_count": 2,
   "metadata": {},
   "outputs": [],
   "source": [
    "# Assign problem data to variables with representative names\n",
    "# well height, daily advance, night retreat, accumulated distance\n",
    "\n",
    "\n",
    "# Assign 0 to the variable that represents the solution\n",
    "\n",
    "\n",
    "# Write the code that solves the problem\n",
    "\n",
    "\n",
    "\n",
    "# Print the result with print('Days =', days)\n"
   ]
  },
  {
   "cell_type": "code",
   "execution_count": 3,
   "metadata": {},
   "outputs": [
    {
     "name": "stdout",
     "output_type": "stream",
     "text": [
      "La posición inicial del Caracol es de 0 cm y lleva 0 días. \n",
      "\n",
      "1. El Caracol avanza durante el día 30 cm.\n",
      "2. El Caracol lleva recorrio 1 días.\n",
      "3. El Caracol lleva recorrido 10 cm. \n",
      "\n",
      "La posición inicial del Caracol es de 10 cm y lleva 1 días. \n",
      "\n",
      "1. El Caracol avanza durante el día 31 cm.\n",
      "2. El Caracol lleva recorrio 2 días.\n",
      "3. El Caracol lleva recorrido 11 cm. \n",
      "\n",
      "La posición inicial del Caracol es de 11 cm y lleva 2 días. \n",
      "\n",
      "1. El Caracol avanza durante el día 44 cm.\n",
      "2. El Caracol lleva recorrio 3 días.\n",
      "3. El Caracol lleva recorrido 24 cm. \n",
      "\n",
      "La posición inicial del Caracol es de 24 cm y lleva 3 días. \n",
      "\n",
      "1. El Caracol avanza durante el día 101 cm.\n",
      "2. El Caracol lleva recorrio 4 días.\n",
      "3. El Caracol lleva recorrido 81 cm. \n",
      "\n",
      "La posición inicial del Caracol es de 81 cm y lleva 4 días. \n",
      "\n",
      "1. El Caracol avanza durante el día 125 cm.\n",
      "2. El Caracol lleva recorrio 5 días.\n",
      "3. El Caracol lleva recorrido 105 cm. \n",
      "\n",
      "La posición inicial del Caracol es de 105 cm y lleva 5 días. \n",
      "\n",
      "1. El Caracol avanza durante el día 150 cm.\n",
      "2. El Caracol lleva recorrio 6 días.\n",
      "\n",
      "\n",
      "El Caracol escapa del pozo el día 6 .\n"
     ]
    }
   ],
   "source": [
    "advance_cm=[30, 21, 33, 77, 44, 45, 23, 45, 12, 34, 55]\n",
    "well_height=125\n",
    "nightly_distance=20\n",
    "snail_position=0\n",
    "days=0\n",
    "\n",
    "\n",
    "\n",
    "for m in advance_cm:\n",
    "    print(\"La posición inicial del Caracol es de\",snail_position,\"cm y lleva\", days,\"días. \\n\")\n",
    "\n",
    "    snail_position+=m\n",
    "    print(\"1. El Caracol avanza durante el día\",snail_position,\"cm.\")\n",
    "\n",
    "    days+=1\n",
    "    print(\"2. El Caracol lleva recorrio\", days, \"días.\")\n",
    "    if snail_position>well_height:\n",
    "        break\n",
    "\n",
    "    snail_position-=nightly_distance\n",
    "    print(\"3. El Caracol lleva recorrido\",snail_position,\"cm. \\n\")\n",
    "print(\"\\n\")\n",
    "print(\"El Caracol escapa del pozo el día\", days, \".\")"
   ]
  },
  {
   "cell_type": "markdown",
   "metadata": {},
   "source": [
    "**Expected output**: \n",
    "```\n",
    "Days = 6\n",
    "```"
   ]
  },
  {
   "cell_type": "code",
   "execution_count": 3,
   "metadata": {},
   "outputs": [],
   "source": [
    "# What is its maximum displacement in a day? And its minimum?"
   ]
  },
  {
   "cell_type": "code",
   "execution_count": 6,
   "metadata": {},
   "outputs": [
    {
     "name": "stdout",
     "output_type": "stream",
     "text": [
      "El máximo avance que hizo en un día fue de 77\n",
      "El mínimo avance que hizo en un día fue de 12\n"
     ]
    }
   ],
   "source": [
    "advance_cm = [30, 21, 33, 77, 44, 45, 23, 45, 12, 34, 55]\n",
    "print(\"El máximo avance que hizo en un día fue de\", max(advance_cm))\n",
    "print(\"El mínimo avance que hizo en un día fue de\", min(advance_cm))"
   ]
  },
  {
   "cell_type": "markdown",
   "metadata": {},
   "source": [
    "**Expected output**: \n",
    "```\n",
    "77 12\n",
    "```"
   ]
  },
  {
   "cell_type": "code",
   "execution_count": 8,
   "metadata": {},
   "outputs": [],
   "source": [
    "# What is its average progress?"
   ]
  },
  {
   "cell_type": "code",
   "execution_count": 9,
   "metadata": {},
   "outputs": [
    {
     "data": {
      "text/plain": [
       "38.09090909090909"
      ]
     },
     "execution_count": 9,
     "metadata": {},
     "output_type": "execute_result"
    }
   ],
   "source": [
    "import numpy as np\n",
    "np.mean(advance_cm)"
   ]
  },
  {
   "cell_type": "markdown",
   "metadata": {},
   "source": [
    "**Expected output**: \n",
    "```\n",
    "38.09090909090909\n",
    "```"
   ]
  },
  {
   "cell_type": "code",
   "execution_count": 11,
   "metadata": {},
   "outputs": [
    {
     "data": {
      "text/plain": [
       "17.159437082600803"
      ]
     },
     "execution_count": 11,
     "metadata": {},
     "output_type": "execute_result"
    }
   ],
   "source": [
    "# What is the standard deviation of your displacement during the day?\n",
    "np.std(advance_cm)"
   ]
  },
  {
   "cell_type": "markdown",
   "metadata": {},
   "source": [
    "**Expected output**: \n",
    "```\n",
    "17.159437082600803\n",
    "```"
   ]
  }
 ],
 "metadata": {
  "kernelspec": {
   "display_name": "Python 3",
   "language": "python",
   "name": "python3"
  },
  "language_info": {
   "codemirror_mode": {
    "name": "ipython",
    "version": 3
   },
   "file_extension": ".py",
   "mimetype": "text/x-python",
   "name": "python",
   "nbconvert_exporter": "python",
   "pygments_lexer": "ipython3",
   "version": "3.8.5"
  }
 },
 "nbformat": 4,
 "nbformat_minor": 2
}
